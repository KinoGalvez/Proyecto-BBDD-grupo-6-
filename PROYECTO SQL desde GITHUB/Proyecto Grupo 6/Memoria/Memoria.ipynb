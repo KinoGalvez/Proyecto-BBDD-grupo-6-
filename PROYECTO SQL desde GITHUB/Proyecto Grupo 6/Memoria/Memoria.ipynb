{
 "cells": [
  {
   "cell_type": "markdown",
   "metadata": {},
   "source": [
    "## Realización del proyecto Grupo 6"
   ]
  },
  {
   "cell_type": "markdown",
   "metadata": {},
   "source": [
    "## Memoria."
   ]
  },
  {
   "cell_type": "markdown",
   "metadata": {},
   "source": [
    "### Parte 1: Realización de esquemas.\n",
    "\n",
    "Hemos comenzado creando el diagrama del modelo Entidad-Relación (E/R) y  el diagrama  del modelo lógico de la base de datos.\n",
    "Para empezar queriamos una base de datos limpia y ordenada.\n",
    "Los principales puntos que queriamos satisfacer han sido:\n",
    "\n",
    "1. Hacer una base de datos clara, tanto para programador, como para usuario.\n",
    "2. Garantizar la integridad de los datos.\n",
    "3. Mantenerlos ordenados y de facil acceso.\n",
    "4. Garantizar facil escalabilidad.\n",
    "\n",
    "Con esas bases nos dispusimos a hacer los diagramas de entidad/relación correspondientes."
   ]
  },
  {
   "cell_type": "markdown",
   "metadata": {},
   "source": [
    "### Parte 2: Normalización de los datos:\n",
    "\n",
    "Se ha escrito el código en python que ha limpiado/normalizado la base de datos segun las necesidades del proyecto y nuestro esquema.\n",
    "\n",
    "Todo el codigo de python se encuentra dentro del archivo <span style=\"color:cyan\">codigo.ipynb</span>, ahi se detallan la parte de limpieza y normalizacion de la base de datos.\n",
    "\n",
    "Gran parte del trabajo fue el de crear las nuevas tablas a partir de las originales, segun los diagramas que se habian hecho anteriormente.\n",
    "\n",
    "Tambien hubo parte de limpieza de datos, arreglo de errores de escritura cambiar <span style=\"color:red\">full-satck</span> por <span style=\"color:green\">full-stack</span> o <span style=\"color:red\">Promoción</span> por <span style=\"color:green\">Promocion</span>."
   ]
  },
  {
   "cell_type": "markdown",
   "metadata": {},
   "source": [
    "### Parte 3: Importación a Postgre:\n",
    "\n",
    "Se han escrito los comandos <span style=\"color:cyan\">SQL</span> necesarios para crear las tablas e importar los <span style=\"color:green\">CSV</span>.\n",
    "\n",
    "Los comandos usados estan al final del archivo <span style=\"color:cyan\">codigo.ipynb</span>\n",
    "\n",
    "Primero se importaron las tablas sin modificar, para aprender como es el procedimiento y los comandos necesarios en <span style=\"color:cyan\">SQL</span>.\n",
    "\n",
    "Una vez se pudo importar los archivos <span style=\"color:green\">CSV</span> sin limpiar, se procedio a importar los archivos limpiados una vez estaban disponibles."
   ]
  },
  {
   "cell_type": "markdown",
   "metadata": {},
   "source": [
    "### Parte 4: Conexión a la nube:\n",
    "\n",
    "Se ha conectado a una database en la nube con <span style=\"color:Cyan\">ElephantSQL</span> y se ha importado la base de datos.\n",
    "\n",
    "El proceso fue sencillo, un compañero creo la base de datos en la nube desde la web de <span style=\"color:Cyan\">ElephantSQL</span> y nos paso las credenciales necesarias para poder entrar.\n",
    "\n",
    "Las credenciales se encuentran en el archivo <span style=\"color:Cyan\">CredencialesBBDD.txt</span> y son necesarias para poder entrar a la base de datos desde postgre SQL."
   ]
  },
  {
   "cell_type": "markdown",
   "metadata": {},
   "source": [
    "# Pendiente ultima revision y terminar despues de la presentacion."
   ]
  }
 ],
 "metadata": {
  "language_info": {
   "name": "python"
  }
 },
 "nbformat": 4,
 "nbformat_minor": 2
}
